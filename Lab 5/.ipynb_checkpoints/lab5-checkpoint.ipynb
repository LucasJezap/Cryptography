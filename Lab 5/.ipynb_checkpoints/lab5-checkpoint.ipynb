{
 "cells": [
  {
   "cell_type": "markdown",
   "metadata": {},
   "source": [
    "# Kryptografia asymetryczna - kryptosystem RSA \n",
    "Kryptografia asymetryczna charakteryzuje się wykorzystaniem **pary kluczy publiczny-prywatny** (stąd nazwa kryptografia z kluczem publicznym). Klucz publiczny może być swobodnie dystrybuowany otwartym kanałem i służy do szyfrowania (a także do weryfikowania podpisu). Klucz prywatny musi być utrzymywany w tajności i służy do deszyfrowania (lub tworzenia podpisu). \n",
    "\n",
    "Chronologicznie pierwszym kryptosystemem asymetrycznym był protokół wymiany kluczu Diffiego-Hellmana-Merkla. Służy on bezpiecznej wymiany danych, które mogą być wykorzystane jako tajne klucze kryptograficzne lub mogą być użyte do wyprodukowania kluczy. \n",
    "\n",
    "Najbardziej znanym kryptosystem z kluczem publicznym jest RSA (nazwa pochodzi od wynalazów: Rivest, Shamir i Adlemann). RSA umożliwia szyfrowanie danych jak również realizację podpisu cyfrowego. Bezpieczeństwo RSA opiera się na obliczeniowej trudności rozwiązania **problemu faktoryzacji liczb całkowitych złożonych**. "
   ]
  },
  {
   "cell_type": "code",
   "execution_count": 1,
   "metadata": {},
   "outputs": [],
   "source": [
    "## Funkcje pomocnicze \n",
    "def gcd(a, b):\n",
    "    # GCD - Greatest Common Divisor, Największy wspólny dzielnik \n",
    "    while a != 0:\n",
    "        a, b = b % a, a\n",
    "    return b\n",
    "\n",
    "def findModInverse(a, m):\n",
    "    # Zwraca liczbę x odwrotną do a ciele skończonym modulo m \n",
    "    # czyli (a*x) % m =1 \n",
    "\n",
    "    if gcd(a, m) != 1:\n",
    "        return None #a i m muszą być względnie pierwsze aby istniał element odwrotny \n",
    "\n",
    "    # Rozszerzony algorytm Euklidesa \n",
    "    u1, u2, u3 = 1, 0, a\n",
    "    v1, v2, v3 = 0, 1, m\n",
    "    while v3 != 0:\n",
    "        q = u3 // v3 # // operator dzielenie całkowitoliczbowego \n",
    "        v1, v2, v3, u1, u2, u3 = (u1 - q * v1), (u2 - q * v2), (u3 - q * v3), v1, v2, v3\n",
    "    return u1 % m"
   ]
  },
  {
   "cell_type": "markdown",
   "metadata": {},
   "source": [
    "## Generowanie kluczy w kryptosystemie RSA\n",
    "\n",
    "### 1. Losujemy dwie duże liczby pierwsze \n",
    "Potrzebujemy dwóch liczb pierwszych o naprawdę dużych rozmiarach - 2048 bitów obecnie uważa się niezbyt bezpieczny wybór. 4096 bitów jest z kolei wielkością nieco kłopotliwą w użytkowaniu. \n",
    "#### Skąd wziąć liczbę pierwszą? \n",
    "**Wylosować i sprawdzić czy jest pierwsza!**\n",
    "\n",
    "\n",
    "Test probabilistyczny, np. Rabina-Millera. "
   ]
  },
  {
   "cell_type": "code",
   "execution_count": 2,
   "metadata": {},
   "outputs": [
    {
     "data": {
      "text/plain": [
       "True"
      ]
     },
     "execution_count": 2,
     "metadata": {},
     "output_type": "execute_result"
    }
   ],
   "source": [
    "###### Test pierwszości Rabina-Millera\n",
    "import random\n",
    "\n",
    "def rabinMiller(num):\n",
    "    d = num - 1    ##obliczamy wartości d i sa\n",
    "    s = 0\n",
    "    while d % 2 == 0:   ##usuwamy z num-1 dzielniki 2 zliczając je w s\n",
    "        d = d // 2\n",
    "        s += 1\n",
    "\n",
    "    for trials in range(6):   ## wykonujemy n testów R-B \n",
    "        x = random.randrange(2, num - 1)  ##losujemy baze x\n",
    "        a = pow(x, d, num)   ### pierwszy wyraz ciągu\n",
    "        if (a != 1) and (a != num-1): ## jeśli a nie spełnia warunków losujemy innego świadka\n",
    "            i = 1\n",
    "            while (i < s) and (a != (num - 1)): #generujemy ciąg R-M\n",
    "                a = (a ** 2) % num   ## obliczamy kolejne wyrazy ciągu R-M: b^d, b^2d, b^4d\n",
    "                if(a==1):          ## tylko ostatni wyraz może mieć wartość 1! skończyliśmy za wcześnie\n",
    "                    return False ##To nie jest liczba pierwsza lub silnie pseudopierwsza\n",
    "                i+=1\n",
    "            if(a!=num-1):  ##przedostatni wyraz musi mieć wartość num-1    \n",
    "                return False  ##To nie jest liczba pierwsza lub silnie pseudopierwsza                \n",
    "    ### jeśli wykonaliśmy n testów i żaden nie zakończył się False \n",
    "    return True\n",
    "\n",
    "def isPrime(num):\n",
    "    if (num <= 2):\n",
    "        return False # oczywista oczywistość \n",
    "    #opcjonalne można sprawdzić czy małe liczby pierwsze nie są czynnikami badanej liczby   \n",
    "    return rabinMiller(num)\n",
    "\n",
    "\n",
    "isPrime(65537)"
   ]
  },
  {
   "cell_type": "markdown",
   "metadata": {},
   "source": [
    "## Zadanie\n",
    "1. Napisz funkcję generującą liczbę pierwszą o określonej długości w bitach. "
   ]
  },
  {
   "cell_type": "code",
   "execution_count": 3,
   "metadata": {},
   "outputs": [
    {
     "name": "stdout",
     "output_type": "stream",
     "text": [
      "49171\n"
     ]
    }
   ],
   "source": [
    "#napisz funkcję generującą liczbę pierwszą \n",
    "def generatePrime(keysize):  # keysize - ilość bitów\n",
    "    #napisz swój kod tutaj\n",
    "    num = random.randrange(2**(keysize-1), 2**keysize)\n",
    "    \n",
    "    while not isPrime(num):\n",
    "        num = random.randrange(2**(keysize-1), 2**keysize)\n",
    "    \n",
    "    return num\n",
    "\n",
    "print(generatePrime(16))"
   ]
  },
  {
   "cell_type": "markdown",
   "metadata": {},
   "source": [
    "## Zastanów się \n",
    "1. Znajdź zestawienie liczb silnie pseudopierwszych i sprawdź działanie (pojedynczego!) testy R-M dla takich liczb\n",
    "2. Ile testów R-M należy przeprowadzić aby osiągnąć bezpieczny poziom pewności testu"
   ]
  },
  {
   "cell_type": "code",
   "execution_count": 4,
   "metadata": {},
   "outputs": [
    {
     "name": "stdout",
     "output_type": "stream",
     "text": [
      "False\n"
     ]
    }
   ],
   "source": [
    "print(isPrime(31697))"
   ]
  },
  {
   "cell_type": "markdown",
   "metadata": {},
   "source": [
    "### 2. Obliczamy składniki kluczy \n",
    "1. Wybieramy dwie duże liczby pierwsze $p$ i $q$\n",
    "2. Pierwszym składnikiem klucza jest moduł $n=p \\times q$ \n",
    "3. Poszukujemy wykładnika publicznego $e$, który jest względnie pierwszy z $(p-1)\\cdot (q-1)$ (czasami używane jest w miejscu pojęcie tocjentu lub funkcji Eulera: $\\phi(n) = \\phi(p)\\cdot \\phi(q) = (p − 1)·(q − 1)$)\n",
    "4. Poszukujemy wykładnika prywatnego $d$, które jest odwrotnością $e\\ (mod\\ (p-1)\\cdot (q-1))$: $de \\equiv 1  (mod\\ (p-1)\\cdot (q-1))$\n",
    "5. Kluczem publiczny jest para $(n, e)$, kluczem prywatnym jest para $(n, d)$."
   ]
  },
  {
   "cell_type": "markdown",
   "metadata": {},
   "source": [
    "## Zadanie \n",
    "\n",
    "1. Napisz funkcję generującą klucze RSA o ustalonym rozmiarze"
   ]
  },
  {
   "cell_type": "code",
   "execution_count": 5,
   "metadata": {},
   "outputs": [
    {
     "name": "stdout",
     "output_type": "stream",
     "text": [
      "Generujemy klucze publiczny i prywatny\n",
      "((2099009747, 1499270653), (2099009747, 2016910909))\n"
     ]
    }
   ],
   "source": [
    "import random, sys, os\n",
    "\n",
    "def generateKey(keySize):\n",
    "    #napisz swój kod tutaj\n",
    "    p = generatePrime(keySize)\n",
    "    q = generatePrime(keySize)\n",
    "    n = p * q\n",
    "    totient = (p - 1) * (q - 1)\n",
    "    e = random.randrange(2, totient)\n",
    "    while gcd(e, totient) != 1:\n",
    "        e = random.randrange(2, totient)\n",
    "    d = findModInverse(e, totient)\n",
    "    \n",
    "    publicKey = n, e\n",
    "    privateKey = n, d\n",
    "    \n",
    "    return (publicKey, privateKey)\n",
    "\n",
    "def makeKeyFiles(keySize):\n",
    "    public, private = generateKey(keySize)\n",
    "    return public, private\n",
    "  \n",
    "print('Generujemy klucze publiczny i prywatny')\n",
    "print(makeKeyFiles(16))"
   ]
  },
  {
   "cell_type": "markdown",
   "metadata": {},
   "source": [
    "## Zadanie \n",
    "\n",
    "Napisz funkcje implementujące szyfrowanie i deszyfrowanie RSA (tzw. podręcznikowe)\n",
    "\n",
    "### Szyfrowanie RSA \n",
    "Operacja szyfrowania: $c=m^e (mod\\ n)$"
   ]
  },
  {
   "cell_type": "code",
   "execution_count": 6,
   "metadata": {},
   "outputs": [],
   "source": [
    "def encrypt(message, modulus, exp):\n",
    "    # kod szyfrowania     \n",
    "    message_encrypted = [pow(ord(char),exp,modulus) for char in message]\n",
    "    return message_encrypted"
   ]
  },
  {
   "cell_type": "markdown",
   "metadata": {},
   "source": [
    "### Deszyfrowanie RSA \n",
    "Operacja szyfrowanie $m = c^d (mod\\ n)$"
   ]
  },
  {
   "cell_type": "code",
   "execution_count": 7,
   "metadata": {},
   "outputs": [],
   "source": [
    "def decrypt(message_encrypted, modulus, exp):\n",
    "    message_ascii = [chr(pow(char,exp,modulus)) for char in message_encrypted]\n",
    "    return ('').join(message_ascii)"
   ]
  },
  {
   "cell_type": "code",
   "execution_count": 18,
   "metadata": {},
   "outputs": [
    {
     "name": "stdout",
     "output_type": "stream",
     "text": [
      "Plaintext: Cryptography is cool!\n",
      "Encrypted: [192154147166076282785320170397578845566, 38920339969418843799740496233045865182, 122316957619040249613089648024072179289, 188437380032017284898384785416844285552, 131314717437360462853623492678572157449, 51877318022382626096438626632183266777, 90028058194567850928399214913233293271, 38920339969418843799740496233045865182, 4945380792708301575426218111060816267, 188437380032017284898384785416844285552, 95881551985912435500674603217969104282, 122316957619040249613089648024072179289, 179271783796223834452251594845996629456, 73110688192513839392428093831699216032, 9327171579767631947657666344990559365, 179271783796223834452251594845996629456, 23500895001581959181626879657186152971, 51877318022382626096438626632183266777, 51877318022382626096438626632183266777, 115630151316217903298683210125369376904, 129303469232779916378739862838915565947]\n",
      "Time of encryption: 0.001995086669921875\n",
      "Decrypted: Cryptography is cool!\n",
      "Time of decryption: 0.0019936561584472656\n"
     ]
    }
   ],
   "source": [
    "import time\n",
    "public, private = generateKey(64)  # (n,e) (n,d)\n",
    "n, e = public\n",
    "d = private[1]\n",
    "plaintext = \"Cryptography is cool!\"\n",
    "print(\"Plaintext: \" + plaintext)\n",
    "time1 = time.time()\n",
    "encrypted = encrypt(plaintext, n, e)\n",
    "print(\"Encrypted: \" + str(encrypted))\n",
    "time2 = time.time()\n",
    "print(\"Time of encryption: \" + str(time2-time1))\n",
    "decrypted = decrypt(encrypted, n, d)\n",
    "print(\"Decrypted: \" + str(decrypted))\n",
    "print(\"Time of decryption: \" + str(time.time() - time2))"
   ]
  },
  {
   "cell_type": "markdown",
   "metadata": {},
   "source": [
    "## Zastanów się\n",
    "1. Sprawdź działanie powyższej implementacji dla różnych wielkości klucza (podawane podczas generowania kluczy). \n",
    "2. Poszukaj informacji o trybie podręcznikowym RSA (*textbook RSA encryption*). Na czym polega? Jakie są jego wady i zalety? \n",
    "\n",
    "\n",
    "## Zadanie (TODO)\n",
    "Zademonstruj deformowalność podręcznikowego szyfrowania RSA "
   ]
  },
  {
   "cell_type": "code",
   "execution_count": 21,
   "metadata": {},
   "outputs": [],
   "source": [
    "# def encrypt_malleability(encrypted_msg, message, modulus, exp):\n",
    "#     # kod szyfrowania     \n",
    "#     message_encrypted = []\n",
    "#     for i in range(len(message))\n",
    "#         message_encrypted.append(pow(ord(char),exp,modulus) for char in message]\n",
    "#     return message_encrypted\n",
    "\n",
    "# public, private = generateKey(128)  # (n,e) (n,d)\n",
    "# n, e = public\n",
    "# d = private[1]\n",
    "# plaintext = \"Malleability is not cool\"\n",
    "# plaintext2 = \"Please be careful\"\n",
    "# m = encrypt(plaintext, n, e)\n",
    "# # adwersarz mając szyfrogram E(m) dla wiadomości m może skonstruować szyfrogram wiadomości mt gdzie t jest dowolne.\n",
    "# # wynika to z tego, że E(mt) = (mt)^e mod(n) = m^e mod(n) * t^e mod(n) = E(m) * t^e mod(n) (mamy wszystko)\n",
    "# mt = encrypt_malleability(m, plaintext2, n, e)\n",
    "# print(mt)"
   ]
  }
 ],
 "metadata": {
  "kernelspec": {
   "display_name": "Python 3",
   "language": "python",
   "name": "python3"
  },
  "language_info": {
   "codemirror_mode": {
    "name": "ipython",
    "version": 3
   },
   "file_extension": ".py",
   "mimetype": "text/x-python",
   "name": "python",
   "nbconvert_exporter": "python",
   "pygments_lexer": "ipython3",
   "version": "3.8.3"
  }
 },
 "nbformat": 4,
 "nbformat_minor": 2
}
