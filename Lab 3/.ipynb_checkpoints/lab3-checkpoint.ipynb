{
 "cells": [
  {
   "cell_type": "markdown",
   "metadata": {},
   "source": [
    "# Szyfry blokowe\n",
    "Szyfry blokowe są obecnie najczęściej używaną grupą szyfrów. Najważniejszą ich cechą charakterystyczną jest działanie na blokach pamięci (o rozmiarze 64 lub 128 bitów). Szyfr blokowy przekształca blok tekstu jawnego do bloku szyfrogramu. Idealnie gdy każdy bit bloku szyfrogramu zależy od wszystkich bitów odpowiedniego bloku tekstu jawnego. \n",
    "\n",
    "Blokowość szyfrowania sprawia, że konieczne jest określenie w jaki sposób kolejne bloku wiadomości są szyfrowane.  Schematy postępowania w tym przypadku określane są mianem ** trybów algorytmów szyfrowych**: ECB, CBC, CFB, OFB, CTR, GCM. Najprotszy tryb ECB zakłada, że każdy blok szyfrowany jest tym samym kluczem niezależnie od innych. Z oczywistych względów takie rozwiązanie jest niezalecane. Pozostałe tryby oferują bezpieczniejszy schemat przetwarzania ciągu bloków. \n",
    "\n",
    "Kolejnym problemem jaki musi rozwiązać implementator szyfru blokowego jest uwzględnienie sytuacji gdy rozmiar wiadomości jawnej nie jest równy wielokrotności rozmiary bloków. W takiej sytuacji konieczna jest implementacja ** dopełnienia** ostatniego niepełnego bloku. \n",
    "\n"
   ]
  },
  {
   "cell_type": "markdown",
   "metadata": {},
   "source": [
    "## Szyfr DES (Data Encryption Standard)\n",
    "\n",
    "https://www.schneier.com/blog/archives/2004/10/the_legacy_of_d.html\n",
    "\n",
    "DES (Data Encryption Standard) został opracowany w laboratoriach IBM pod nazwą Lucifer na poczatku lat 70tych XX wieku. W 1975 szyfr ten po pewnych modyfikacjach został przyjęty jako standard szyfrowania DES.\n",
    "\n",
    "Szyfr DES ma konstrukcję opartą o sieć Feistela. Podobna konstrukcja wykorzystywana jest w wielu innych szyfrach, np. Blowfish, Twofish, CAST-128 (Wikipedia wymiania ok. 15 algorytmów)\n",
    "\n",
    "Algorytm DES wykorzystuje S-boxy oraz tzw. przekształcenie Feistela. Operacje te powtarzane są 16 razy. Przed rozpocząciem szyfrowania klucz główny przekształcany jest do 16 podkluczy dla każdej z rund. \n",
    "\n",
    "DES został poddany bardzo wnikliwym atakom. Opracowano dla niego skuteczne metody kryptoanalizy: różnicowa i liniowa. W głównej mierze jednak największą słabością okazała się  długość klucza. \n",
    "\n",
    "Żywot DES był przedłużany przez liczne modyfikacje, z których najbardziej znaną jest 3DES, używający trzech kluczy i sekwencji szyfrowanie+deszyfrowanie+szyfrowanie. "
   ]
  },
  {
   "cell_type": "markdown",
   "metadata": {},
   "source": [
    "### Zarządzenie kluczem (key scheduling) w DES\n",
    "##### 1. Redukcja klucza 64-> 56 bitów i wstępna permutacja\n",
    "> Key size was reduced to 56 bits because IBM wanted to fit LUCIFER on a single chip. (Stallings, W. Cryptography and network security, 5th ed.. p.78)\n",
    "\n",
    "> The NSA made two changes to DES: It tweaked the algorithm, and it cut the key size by more than half. (Schneier)\n",
    "\n",
    "> But whereas Lucifer had a key that was 112 bits long, the DES key was shortened to 56 bits at the request of the National Security Agency. (http://www.diablotin.com/librairie/networking/puis/ch06_04.htm) \n",
    "\n",
    "64 bitowy klucz szyfrowania jest wstępnie permutowany, a niektóre bity są pomijane. "
   ]
  },
  {
   "cell_type": "code",
   "execution_count": 64,
   "metadata": {},
   "outputs": [
    {
     "name": "stdout",
     "output_type": "stream",
     "text": [
      "Klucz DES zredukowany do 56 bitów: 11110000110011001010101011110101010101100110011110001111\n"
     ]
    }
   ],
   "source": [
    "#Schemat permutacji z kompresją \n",
    "PC1 = [57,49,41,33,25,17,9,1,58,50,42,34,26,18,10,2,59,51,43,35,27,19,11,3,60,52,44,36,63,55,47,39,31,23,15,7,62,54,46,38,30,22,14,6,61,53,45,37,29,21,13,5,28,20,12,4]\n",
    "\n",
    "def apply_PC1(pc1_table,keys_64bits):\n",
    "    keys_56bits = \"\"\n",
    "    for index in pc1_table:\n",
    "        keys_56bits += keys_64bits[index-1] \n",
    "    return keys_56bits\n",
    "\n",
    "# Test\n",
    "keys_64bits = \"0001001100110100010101110111100110011011101111001101111111110001\"\n",
    "keys_56bits = apply_PC1(PC1,keys_64bits)\n",
    "#Poprawne wyjście: 11110000110011001010101011110101010101100110011110001111\n",
    "print('Klucz DES zredukowany do 56 bitów:', keys_56bits)"
   ]
  },
  {
   "cell_type": "markdown",
   "metadata": {},
   "source": [
    "#####  2. Podział klucza na dwie 28-bitowe części "
   ]
  },
  {
   "cell_type": "code",
   "execution_count": 65,
   "metadata": {},
   "outputs": [
    {
     "name": "stdout",
     "output_type": "stream",
     "text": [
      "Lewa strona:   1111000011001100101010101111\n",
      "Prawa strona:  0101010101100110011110001111\n"
     ]
    }
   ],
   "source": [
    "def split56bits_in_half(keys_56bits):\n",
    "    left_keys, right_keys = keys_56bits[:28],keys_56bits[28:]\n",
    "    return left_keys, right_keys\n",
    "\n",
    "left56 , right56 = split56bits_in_half(keys_56bits)\n",
    "\n",
    "print('Lewa strona:  ', left56)\n",
    "print('Prawa strona: ', right56)"
   ]
  },
  {
   "cell_type": "markdown",
   "metadata": {},
   "source": [
    "##### 3. Rotacja klucza o 1 lub 2 bity\n",
    "Rotacja o 1 bit następuje tylko w rundach 1, 2, 9, 16. W pozostałych rundach rotujemy od dwa. "
   ]
  },
  {
   "cell_type": "code",
   "execution_count": 66,
   "metadata": {},
   "outputs": [
    {
     "name": "stdout",
     "output_type": "stream",
     "text": [
      "Lewa połowa klucza po przesunięciu:   1110000110011001010101011111\n",
      "Prawa połowa klucza po przesunięciu:  0101010110011001111000111101\n"
     ]
    }
   ],
   "source": [
    "def circular_left_shift(bits,numberofbits):\n",
    "     shiftedbits = bits[numberofbits:] + bits[:numberofbits]\n",
    "     return shiftedbits\n",
    "\n",
    "print(\"Lewa połowa klucza po przesunięciu:  \",circular_left_shift(left56,1))\n",
    "print(\"Prawa połowa klucza po przesunięciu: \",circular_left_shift(right56,2))"
   ]
  },
  {
   "cell_type": "markdown",
   "metadata": {},
   "source": [
    "##### 4. Permutacja z kompresją 2 x 28 bit > 48 bit"
   ]
  },
  {
   "cell_type": "code",
   "execution_count": 67,
   "metadata": {},
   "outputs": [
    {
     "name": "stdout",
     "output_type": "stream",
     "text": [
      "Przykładowy klucz podrundy:  110010110011110110001011000011100001011111110101\n"
     ]
    }
   ],
   "source": [
    "PC2 = [14,17,11,24,1,5,3,28,15,6,21,10,23,19,12,4,26,8,16,7,27,20,13,2, 41,52,31,37,47,55,30,40,51,45,33,48,44,49,39,56,34,53,46,42,50,36,29,32]\n",
    "def apply_PC2(pc2_table,keys_56bits):\n",
    "    keys_48bits = \"\"\n",
    "    for index in pc2_table:\n",
    "        keys_48bits += keys_56bits[index-1]\n",
    "    return keys_48bits\n",
    "\n",
    "# Test \n",
    "left_half = \"1111000011001100101010101111\"\n",
    "right_half = \"0101010101100110011110001111\"\n",
    "\n",
    "subkey = apply_PC2(PC2,left_half + right_half)\n",
    "\n",
    "print(\"Przykładowy klucz podrundy: \", subkey)"
   ]
  },
  {
   "cell_type": "markdown",
   "metadata": {},
   "source": [
    "#### Generowanie 48-bitowych podkluczy rund \n",
    "![title](img/des.png)\n",
    "Poskładajmy wszystko w całość: "
   ]
  },
  {
   "cell_type": "code",
   "execution_count": 70,
   "metadata": {},
   "outputs": [
    {
     "name": "stdout",
     "output_type": "stream",
     "text": [
      "Lista 16 podkluczy: \n",
      "000110110000001011101111111111000111000001110010\n",
      "011110011010111011011001110110111100100111100101\n",
      "010101011111110010001010010000101100111110011001\n",
      "011100101010110111010110110110110011010100011101\n",
      "011111001110110000000111111010110101001110101000\n",
      "011000111010010100111110010100000111101100101111\n",
      "111011001000010010110111111101100001100010111100\n",
      "111101111000101000111010110000010011101111111011\n",
      "111000001101101111101011111011011110011110000001\n",
      "101100011111001101000111101110100100011001001111\n",
      "001000010101111111010011110111101101001110000110\n",
      "011101010111000111110101100101000110011111101001\n",
      "100101111100010111010001111110101011101001000001\n",
      "010111110100001110110111111100101110011100111010\n",
      "101111111001000110001101001111010011111100001010\n",
      "110010110011110110001011000011100001011111110101\n"
     ]
    }
   ],
   "source": [
    "round_shifts = [1, 1, 2, 2, 2, 2, 2, 2, 1, 2, 2, 2, 2, 2, 2, 1]\n",
    "\n",
    "def generate_keys(key_64bits):\n",
    "    round_keys = list() \n",
    "    # wykonaj operacje jak w diagramie powyżej \n",
    "    key_56bits = apply_PC1(PC1, key_64bits)\n",
    "    left_28bits, right_28bits = split56bits_in_half(key_56bits)\n",
    "    \n",
    "    for shift in round_shifts:\n",
    "        left_28bits = circular_left_shift(left_28bits, shift)\n",
    "        right_28bits = circular_left_shift(right_28bits, shift)\n",
    "        round_keys.append(apply_PC2(PC2, left_28bits + right_28bits))\n",
    "    return round_keys\n",
    "\n",
    "#test \n",
    "key_64bits = \"0001001100110100010101110111100110011011101111001101111111110001\"\n",
    "\n",
    "subkeys = generate_keys(key_64bits)\n",
    "\n",
    "print(\"Lista 16 podkluczy: \")\n",
    "print(\"\\n\".join(subkeys))"
   ]
  },
  {
   "cell_type": "markdown",
   "metadata": {},
   "source": [
    "##### Zastanów się \n",
    "1. Sprawdź jak wyglądają klucze rundy wygenerowane dla poniższych kluczy głównych\n",
    "2. Poszukaj informacji o kluczach słabych i półsłabych\n",
    "3. Podaj inne przykłady kluczy słabych dla DES"
   ]
  },
  {
   "cell_type": "code",
   "execution_count": 71,
   "metadata": {},
   "outputs": [
    {
     "name": "stdout",
     "output_type": "stream",
     "text": [
      "Lista 16 podkluczy dla strangekey1: \n",
      "111111111111111111111111111111111111111111111111\n",
      "111111111111111111111111111111111111111111111111\n",
      "111111111111111111111111111111111111111111111111\n",
      "111111111111111111111111111111111111111111111111\n",
      "111111111111111111111111111111111111111111111111\n",
      "111111111111111111111111111111111111111111111111\n",
      "111111111111111111111111111111111111111111111111\n",
      "111111111111111111111111111111111111111111111111\n",
      "111111111111111111111111111111111111111111111111\n",
      "111111111111111111111111111111111111111111111111\n",
      "111111111111111111111111111111111111111111111111\n",
      "111111111111111111111111111111111111111111111111\n",
      "111111111111111111111111111111111111111111111111\n",
      "111111111111111111111111111111111111111111111111\n",
      "111111111111111111111111111111111111111111111111\n",
      "111111111111111111111111111111111111111111111111\n",
      "Lista 16 podkluczy dla strangekey2: \n",
      "111111111111111111111111000000000000000000000000\n",
      "111111111111111111111111000000000000000000000000\n",
      "111111111111111111111111000000000000000000000000\n",
      "111111111111111111111111000000000000000000000000\n",
      "111111111111111111111111000000000000000000000000\n",
      "111111111111111111111111000000000000000000000000\n",
      "111111111111111111111111000000000000000000000000\n",
      "111111111111111111111111000000000000000000000000\n",
      "111111111111111111111111000000000000000000000000\n",
      "111111111111111111111111000000000000000000000000\n",
      "111111111111111111111111000000000000000000000000\n",
      "111111111111111111111111000000000000000000000000\n",
      "111111111111111111111111000000000000000000000000\n",
      "111111111111111111111111000000000000000000000000\n",
      "111111111111111111111111000000000000000000000000\n",
      "111111111111111111111111000000000000000000000000\n"
     ]
    }
   ],
   "source": [
    "strangekey1 = '1111111011111110111111101111111011111110111111101111111011111110'\n",
    "strangekey2 = '1110000011100000111000001110000011110001111100011111000111110001'\n",
    "keys1 = generate_keys(strangekey1)\n",
    "keys2 = generate_keys(strangekey2)\n",
    "print(\"Lista 16 podkluczy dla strangekey1: \")\n",
    "print(\"\\n\".join(keys1))\n",
    "print(\"Lista 16 podkluczy dla strangekey2: \")\n",
    "print(\"\\n\".join(keys2))"
   ]
  },
  {
   "cell_type": "markdown",
   "metadata": {},
   "source": [
    "### Nieliniowa funkcja rundy F()\n",
    "Nieliniowa funkcja F() używana jest wielokrotnie w trakcie szyfrowania w celu przekształcenia połowy bloku i połączeniu go z kluczem odpowiedniej rundy. Składnikami tej funkcji są następujące operacje:\n",
    "\n",
    "##### 1. 32-bitowy blok wiadomości jest rozszerzany do długości 48-bitów. Sposób rozszerzenia określa permutacja z powieleniem niektórych bitów.   "
   ]
  },
  {
   "cell_type": "code",
   "execution_count": 72,
   "metadata": {},
   "outputs": [
    {
     "name": "stdout",
     "output_type": "stream",
     "text": [
      "Rozszerzony blok wiadomości:  011110100001010101010101011110100001010101010101\n"
     ]
    }
   ],
   "source": [
    "EXPANSION_TABLE = [32,1,2,3,4,5,4,5,6,7,8,9,8,9,10,11,12,13,12,13,14,15,16,17,\n",
    "16,17,18,19,20,21,20,21,22,23,24,25,24,25,26,27,28,29,28,29,30,31,32,1]\n",
    "\n",
    "def apply_Expansion(expansion_table,bits32):\n",
    "    \"\"\" This will take expansion table and 32-bit binary string as input and output a 48-bit binary stirng\"\"\"\n",
    "    bits48 = \"\"\n",
    "    for index in expansion_table:\n",
    "        bits48 += bits32[index-1]\n",
    "    return bits48\n",
    "\n",
    "#test \n",
    "bits32 = '11110000101010101111000010101010'\n",
    "out_bits48 = apply_Expansion(EXPANSION_TABLE,bits32)\n",
    "print(\"Rozszerzony blok wiadomości: \", out_bits48)\n",
    "# 011110100001010101010101011110100001010101010101"
   ]
  },
  {
   "cell_type": "markdown",
   "metadata": {},
   "source": [
    "XOR dwóch bloków (zawsze się przydaje)"
   ]
  },
  {
   "cell_type": "code",
   "execution_count": 73,
   "metadata": {},
   "outputs": [
    {
     "name": "stdout",
     "output_type": "stream",
     "text": [
      "0110\n"
     ]
    }
   ],
   "source": [
    "def XOR(bits1,bits2):\n",
    "    \"\"\"perform a XOR operation and return the output\"\"\"\n",
    "    # ciągi muszą być równej długości\n",
    "    xor_result = \"\"\n",
    "    for index in range(len(bits1)):\n",
    "        if bits1[index] == bits2[index]: \n",
    "            xor_result += '0'\n",
    "        else:\n",
    "            xor_result += '1'\n",
    "    return xor_result\n",
    "\n",
    "bits1 = '1100'\n",
    "bits2 = '1010'\n",
    "print(XOR(bits1,bits2))\n",
    "# output: '0110'"
   ]
  },
  {
   "cell_type": "markdown",
   "metadata": {},
   "source": [
    "##### 2. Aplikacja Sboksów (S-Box).\n",
    "Sboksy są rdzeniem przekształcenia realizowanego przez funkcję rundy F. **Ich zadaniem jest wprowadzenie nieliniowości do przekształcenia bloku bitów**. W przypadku DES taka a nie inna postać Sboksów wynikała z chęci zabezpieczenia szyfru przed kryptoanalizą różnicową, która w latach 70' nie była znana ,,cywilnym'' kryptografom. Jednym z celów przyświecających projektantom było uzyskanie **efektu lawinowego** (strict avalanche effect) to znaczy zmiana 1 bitu wejściowego powinna wywołać zmianę wszystkich bitów wyjściowych z 50% prawdopodobieństwem. Projektanci zdefiniowali także inne kryteria, które miały spełniać ciągi bitów wejściowych i wyjściowych a następnie wyszukali sboksy, które spełniały te kryteria (D. Coppersmith,  The Data Encryption\n",
    "Standard (DES) and its strength against attacks)."
   ]
  },
  {
   "cell_type": "code",
   "execution_count": 74,
   "metadata": {},
   "outputs": [],
   "source": [
    "SBOX = [\n",
    "# Box-1\n",
    "[\n",
    "[14,4,13,1,2,15,11,8,3,10,6,12,5,9,0,7],\n",
    "[0,15,7,4,14,2,13,1,10,6,12,11,9,5,3,8],\n",
    "[4,1,14,8,13,6,2,11,15,12,9,7,3,10,5,0],\n",
    "[15,12,8,2,4,9,1,7,5,11,3,14,10,0,6,13]\n",
    "],\n",
    "# Box-2\n",
    "\n",
    "[\n",
    "[15,1,8,14,6,11,3,4,9,7,2,13,12,0,5,10],\n",
    "[3,13,4,7,15,2,8,14,12,0,1,10,6,9,11,5],\n",
    "[0,14,7,11,10,4,13,1,5,8,12,6,9,3,2,15],\n",
    "[13,8,10,1,3,15,4,2,11,6,7,12,0,5,14,9]\n",
    "],\n",
    "\n",
    "# Box-3\n",
    "\n",
    "[\n",
    "[10,0,9,14,6,3,15,5,1,13,12,7,11,4,2,8],\n",
    "[13,7,0,9,3,4,6,10,2,8,5,14,12,11,15,1],\n",
    "[13,6,4,9,8,15,3,0,11,1,2,12,5,10,14,7],\n",
    "[1,10,13,0,6,9,8,7,4,15,14,3,11,5,2,12]\n",
    "\n",
    "],\n",
    "\n",
    "# Box-4\n",
    "[\n",
    "[7,13,14,3,0,6,9,10,1,2,8,5,11,12,4,15],\n",
    "[13,8,11,5,6,15,0,3,4,7,2,12,1,10,14,9],\n",
    "[10,6,9,0,12,11,7,13,15,1,3,14,5,2,8,4],\n",
    "[3,15,0,6,10,1,13,8,9,4,5,11,12,7,2,14]\n",
    "],\n",
    "\n",
    "# Box-5\n",
    "[\n",
    "[2,12,4,1,7,10,11,6,8,5,3,15,13,0,14,9],\n",
    "[14,11,2,12,4,7,13,1,5,0,15,10,3,9,8,6],\n",
    "[4,2,1,11,10,13,7,8,15,9,12,5,6,3,0,14],\n",
    "[11,8,12,7,1,14,2,13,6,15,0,9,10,4,5,3]\n",
    "],\n",
    "# Box-6\n",
    "\n",
    "[\n",
    "[12,1,10,15,9,2,6,8,0,13,3,4,14,7,5,11],\n",
    "[10,15,4,2,7,12,9,5,6,1,13,14,0,11,3,8],\n",
    "[9,14,15,5,2,8,12,3,7,0,4,10,1,13,11,6],\n",
    "[4,3,2,12,9,5,15,10,11,14,1,7,6,0,8,13]\n",
    "\n",
    "],\n",
    "# Box-7\n",
    "[\n",
    "[4,11,2,14,15,0,8,13,3,12,9,7,5,10,6,1],\n",
    "[13,0,11,7,4,9,1,10,14,3,5,12,2,15,8,6],\n",
    "[1,4,11,13,12,3,7,14,10,15,6,8,0,5,9,2],\n",
    "[6,11,13,8,1,4,10,7,9,5,0,15,14,2,3,12]\n",
    "],\n",
    "# Box-8\n",
    "\n",
    "[\n",
    "[13,2,8,4,6,15,11,1,10,9,3,14,5,0,12,7],\n",
    "[1,15,13,8,10,3,7,4,12,5,6,11,0,14,9,2],\n",
    "[7,11,4,1,9,12,14,2,0,6,10,13,15,3,5,8],\n",
    "[2,1,14,7,4,10,8,13,15,12,9,0,3,5,6,11]\n",
    "]\n",
    "\n",
    "]"
   ]
  },
  {
   "cell_type": "markdown",
   "metadata": {},
   "source": [
    "Generalnie S-boksów używamy w taki sposób, że **kilkubitowe porcje bloku wejściowego używane są jako indeksu wskazującego odpowiednie wartości w S-boksie. Wskazane wartości zwracane są jako wyjściowe porcje bitów**. W przypadku DES S-boksy mają postać tablic prostokątnych o rozmiarach 4 x 16. Jako wejście S-boksy pobieramy 6-bitowe fragmenty i pierwszy oraz ostatni bit tej porcji złożone razem dają indeks wiersza tablicy S-boks. Kolumna tablicy wskazywana jest przez 4 środkowe bity. Zwracana porcja ma rozmiar 4 bitów. "
   ]
  },
  {
   "cell_type": "code",
   "execution_count": 75,
   "metadata": {},
   "outputs": [
    {
     "name": "stdout",
     "output_type": "stream",
     "text": [
      "Blok podzielony na 6-bitowe porcje: ['011110', '100001', '010101', '010101', '011110', '100001', '010101', '010101']\n",
      "Liczba z pierwszego i ostatniego bitu:  00\n",
      "Liczba z środkowych 4 bitów: 1111\n",
      "4-bitowa wartość z s-box 1010\n"
     ]
    }
   ],
   "source": [
    "#znowu trochę funkcji pomoczniczych do działań na Sboxach.\n",
    "import textwrap\n",
    "\n",
    "#podział wiadomości na 6-bitowe porcje 48/6 = 8 \n",
    "def split48bits_in_6bits(XOR_48bits):\n",
    "    \"\"\"split 48 bits into 6 bits each \"\"\"\n",
    "    list_of_6bits = textwrap.wrap(XOR_48bits,6)\n",
    "    return list_of_6bits\n",
    "\n",
    "def get_first_and_last_bit(bits6):\n",
    "    \"\"\"Return first and last bit from a binary string\"\"\"\n",
    "    twobits = bits6[0] + bits6[-1] \n",
    "    return twobits\n",
    "\n",
    "def get_middle_four_bit(bits6):\n",
    "    \"\"\"Return first and last bit from a binary string\"\"\"\n",
    "    fourbits = bits6[1:5] \n",
    "    return fourbits\n",
    "\n",
    "def binary_to_decimal(binarybits):\n",
    "    \"\"\" Convert binary bits to decimal\"\"\"\n",
    "    decimal = int(binarybits,2)\n",
    "    return decimal\n",
    "\n",
    "def decimal_to_binary(decimal):\n",
    "    \"\"\" Convert decimal to binary bits\"\"\"\n",
    "    binary4bits = bin(decimal)[2:].zfill(4)\n",
    "    return binary4bits\n",
    "\n",
    "def sbox_lookup(sboxcount,first_last,middle4):\n",
    "    \"\"\" take three parameter and access the Sbox accordingly and return the value\"\"\"\n",
    "    d_first_last = binary_to_decimal(first_last)\n",
    "    d_middle = binary_to_decimal(middle4)\n",
    "    sbox_value = SBOX[sboxcount][d_first_last][d_middle]\n",
    "    return decimal_to_binary(sbox_value)\n",
    "\n",
    "#Test\n",
    "bits48 = '011110100001010101010101011110100001010101010101'\n",
    "sixbitslist = split48bits_in_6bits(bits48) \n",
    "print(\"Blok podzielony na 6-bitowe porcje:\", sixbitslist)\n",
    "bits6 = sixbitslist[0]\n",
    "first_last = get_first_and_last_bit(bits6)  # '10' -> 2\n",
    "print(\"Liczba z pierwszego i ostatniego bitu: \", first_last)\n",
    "middle4 = get_middle_four_bit(bits6)  # '0000' -> 0\n",
    "print(\"Liczba z środkowych 4 bitów:\", middle4)\n",
    "\n",
    "sboxcount = 1\n",
    "result = sbox_lookup(sboxcount,first_last,middle4) \n",
    "print(\"4-bitowa wartość z s-box\", result)"
   ]
  },
  {
   "cell_type": "markdown",
   "metadata": {},
   "source": [
    "##### 3. Wynik działania S-boxów podlega jeszcze finalnej permutacji."
   ]
  },
  {
   "cell_type": "code",
   "execution_count": 76,
   "metadata": {},
   "outputs": [],
   "source": [
    "PERMUTATION_TABLE = [16,7,20,21,29,12,28,17,1,15,23,26,5,18,31,10,\n",
    "                     2,8,24,14,32,27,3,9,19,13,30,6,22,11,4,25]\n",
    "\n",
    "def apply_Permutation(permutation_table,sbox_32bits):\n",
    "    \"\"\" It takes Sboxes output and a permutation table and return 32 bit binary string\"\"\"\n",
    "    final_32bits = \"\"\n",
    "    for index in permutation_table:\n",
    "        final_32bits += sbox_32bits[index-1]\n",
    "    return final_32bits"
   ]
  },
  {
   "cell_type": "markdown",
   "metadata": {},
   "source": [
    "5. Jak ma wyglądać nieliniowa funkcja rundy F()?  \n",
    "![title](img/desroundfunction.png)"
   ]
  },
  {
   "cell_type": "code",
   "execution_count": 78,
   "metadata": {},
   "outputs": [
    {
     "name": "stdout",
     "output_type": "stream",
     "text": [
      "Wynik aplikowania F():  11010001010000100101101101111100\n"
     ]
    }
   ],
   "source": [
    "def functionF(pre32bits, key48bits):\t\n",
    "    #uzupełnij kod funkcji zgodnie z diagramem powyżej \n",
    "    final32bits = \"\"\n",
    "    bits_48 = apply_Expansion(EXPANSION_TABLE, pre32bits)\n",
    "    bits_48 = XOR(bits_48, key48bits)\n",
    "\n",
    "    bits_6_list = split48bits_in_6bits(bits_48)\n",
    "\n",
    "    for i in range(len(bits_6_list)):\n",
    "        sbox_row = get_first_and_last_bit(bits_6_list[i])\n",
    "        sbox_column = get_middle_four_bit(bits_6_list[i])\n",
    "        final32bits += sbox_lookup(i, sbox_row, sbox_column)\n",
    "\n",
    "    final32bits = apply_Permutation(PERMUTATION_TABLE, final32bits)\n",
    "\n",
    "    return final32bits\n",
    "\n",
    "#test \n",
    "bits32 = '11110000101010101111000010101010'\n",
    "key48bits = '110010110011110110001011000011100001011111110101'\n",
    "print(\"Wynik aplikowania F(): \", functionF(bits32, key48bits))"
   ]
  },
  {
   "cell_type": "markdown",
   "metadata": {},
   "source": [
    "### Szyfrowanie DES\n",
    "Najpierw kilka pomocniczych funkcji "
   ]
  },
  {
   "cell_type": "code",
   "execution_count": 79,
   "metadata": {},
   "outputs": [
    {
     "name": "stdout",
     "output_type": "stream",
     "text": [
      "Hex2Bin: 0000000100100011010001010110011110001001101010111100110111101111\n"
     ]
    }
   ],
   "source": [
    "def hexTobinary(hexdigits):\n",
    "    binarydigits = \"\"\n",
    "    for hexdigit in hexdigits:\n",
    "        binarydigits += bin(int(hexdigit,16))[2:].zfill(4)\n",
    "    return binarydigits\n",
    "\n",
    "M = '0123456789ABCDEF' \n",
    "print(\"Hex2Bin:\", hexTobinary(M))\n",
    "# Output: 0000000100100011010001010110011110001001101010111100110111101111"
   ]
  },
  {
   "cell_type": "markdown",
   "metadata": {},
   "source": [
    "##### 1. Jak szyfruje DES? \n",
    "![title](img/descipher.png)"
   ]
  },
  {
   "cell_type": "markdown",
   "metadata": {},
   "source": [
    "#### 2. Początkowa permutacja "
   ]
  },
  {
   "cell_type": "code",
   "execution_count": 80,
   "metadata": {},
   "outputs": [
    {
     "name": "stdout",
     "output_type": "stream",
     "text": [
      "Binarna postać tekstu jawnego:  0000000100100011010001010110011110001001101010111100110111101111\n",
      "Blok po początkowej permutacji: 1100110000000000110011001111111111110000101010101111000010101010\n"
     ]
    }
   ],
   "source": [
    "INITIAL_PERMUTATION_TABLE = ['58 ', '50 ', '42 ', '34 ', '26 ', '18 ', '10 ', '2',\n",
    "            '60 ', '52 ', '44 ', '36 ', '28 ', '20 ', '12 ', '4',\n",
    "            '62 ', '54 ', '46 ', '38 ', '30 ', '22 ', '14 ', '6', \n",
    "            '64 ', '56 ', '48 ', '40 ', '32 ', '24 ', '16 ', '8', \n",
    "            '57 ', '49 ', '41 ', '33 ', '25 ', '17 ', '9 ', '1',\n",
    "            '59 ', '51 ', '43 ', '35 ', '27 ', '19 ', '11 ', '3',\n",
    "            '61 ', '53 ', '45 ', '37 ', '29 ', '21 ', '13 ', '5',\n",
    "            '63 ', '55 ', '47 ', '39 ', '31 ', '23 ', '15 ', '7']\n",
    "\n",
    "def apply_initial_p(P_TABLE, PLAINTEXT):\n",
    "    permutated_M = \"\"\n",
    "    for index in P_TABLE:\n",
    "        permutated_M += PLAINTEXT[int(index)-1]\n",
    "    return permutated_M\n",
    "\n",
    "#Test\n",
    "M = '0123456789ABCDEF'\n",
    "plaintext = hexTobinary(M)\n",
    "print(\"Binarna postać tekstu jawnego: \", plaintext)\n",
    "print(\"Blok po początkowej permutacji:\", apply_initial_p(INITIAL_PERMUTATION_TABLE,plaintext))\n",
    "\n",
    "## Wyjście:\n",
    "\n",
    "# 0000000100100011010001010110011110001001101010111100110111101111\n",
    "# 1100110000000000110011001111111111110000101010101111000010101010"
   ]
  },
  {
   "cell_type": "markdown",
   "metadata": {},
   "source": [
    "##### 3. Podział bloku 64-bitowego na dwie części "
   ]
  },
  {
   "cell_type": "code",
   "execution_count": 81,
   "metadata": {},
   "outputs": [
    {
     "name": "stdout",
     "output_type": "stream",
     "text": [
      "Blok po podziale:  00000001001000110100010101100111 10001001101010111100110111101111\n"
     ]
    }
   ],
   "source": [
    "def split64bits_in_half(binarybits):\n",
    "    return binarybits[:32],binarybits[32:]\n",
    "\n",
    "M = '0123456789ABCDEF'\n",
    "p_plaintext = hexTobinary(M)\n",
    "L0,R0 = split64bits_in_half(p_plaintext)\n",
    "print(\"Blok po podziale: \",L0,R0)\n",
    " \n",
    "#Output\n",
    "#'00000001001000110100010101100111' '10001001101010111100110111101111'"
   ]
  },
  {
   "cell_type": "markdown",
   "metadata": {},
   "source": [
    "##### 4. Finalna permutacja "
   ]
  },
  {
   "cell_type": "code",
   "execution_count": 82,
   "metadata": {},
   "outputs": [
    {
     "name": "stdout",
     "output_type": "stream",
     "text": [
      "Blok po finalnej permutacji: 0000000100100011010001010110011110001001101010111100110111101111\n"
     ]
    }
   ],
   "source": [
    "INVERSE_PERMUTATION_TABLE = ['40 ', '8 ', '48 ', '16 ', '56 ', '24 ', '64 ', '32',\n",
    "                 '39 ', '7 ', '47 ', '15 ', '55 ', '23 ', '63 ', '31',\n",
    "                 '38 ', '6 ', '46 ', '14 ',  '54 ', '22 ', '62 ', '30',\n",
    "                 '37 ', '5 ', '45 ', '13 ', '53 ', '21 ', '61 ', '29',\n",
    "                 '36 ', '4 ', '44 ', '12 ', '52 ', '20 ', '60 ', '28',\n",
    "                 '35 ', '3 ', '43 ', '11 ', '51 ', '19 ', '59 ', '27', \n",
    "                 '34 ', '2 ', '42 ', '10 ', '50 ', '18 ', '58 ', '26',\n",
    "                 '33 ', '1 ', '41 ', '9 ', '49 ', '17 ', '57 ', '25']\n",
    "\n",
    "\n",
    "def apply_initial_p(INVERSE_P_TABLE, ROUND_OUT):\n",
    "    cipher = \"\"\n",
    "    for index in INVERSE_P_TABLE:\n",
    "        cipher += ROUND_OUT[int(index)-1]\n",
    "    return cipher\n",
    "\n",
    "\n",
    "# Test\n",
    "R16 = '11001100000000001100110011111111'  \n",
    "L16 = '11110000101010101111000010101010'\n",
    "\n",
    "cipher = apply_initial_p(INVERSE_PERMUTATION_TABLE, R16+L16)\n",
    "\n",
    "print(\"Blok po finalnej permutacji:\", cipher)\n",
    "# Ouptput\n",
    "# 0000000100100011010001010110011110001001101010111100110111101111 64"
   ]
  },
  {
   "cell_type": "markdown",
   "metadata": {},
   "source": [
    "##### 5. Przekształcenie Feistela \n",
    "![title](img/feistel-network.png)\n",
    "\n",
    "### Zastanów się \n",
    "1. Przenalizuj działanie sieci Feistela (do przodu i wstecz)\n",
    "2. Dlaczego sieć Feistela jest popularnym rozwiązaniem w wielu szyfrach blokowych "
   ]
  },
  {
   "cell_type": "code",
   "execution_count": 83,
   "metadata": {},
   "outputs": [
    {
     "name": "stdout",
     "output_type": "stream",
     "text": [
      "Blok wejściowy 1100110000000000110011001111111111110000101010101111000010101010\n",
      "Blok wyjściowy (szyfrogram) 0011010011111110100011101111101011001100000000001100110011111111\n",
      "Blok wyjściowy (tekst jawny) 1100110000000000110011001111111111110000101010101111000010101010\n"
     ]
    }
   ],
   "source": [
    "# 1. wygenerujmy klucze rundy \n",
    "key_64bits = \"0001001100110100010101110111100110011011101111001101111111110001\"\n",
    "roundkeys = generate_keys(key_64bits)\n",
    "# Testowa wartości bloków  \n",
    "R = '11001100000000001100110011111111'  \n",
    "L = '11110000101010101111000010101010'\n",
    "\n",
    "print(\"Blok wejściowy\", R+L)\n",
    "# Sieć Feistela - uzupełnij kod wg schematu powyżej, użyj podklucza z dowolnej rundy \n",
    "L, R = R, XOR(L, functionF(R, roundkeys[2]))\n",
    "\n",
    "print(\"Blok wyjściowy (szyfrogram)\", R+L)\n",
    "# Wykonaj operacje odwrotne w sieci Feistela - sprawdź czy szyfrowanie się odwróci\n",
    "L, R = XOR(R, functionF(L, roundkeys[2])), L\n",
    "\n",
    "print(\"Blok wyjściowy (tekst jawny)\", R+L)"
   ]
  },
  {
   "cell_type": "markdown",
   "metadata": {},
   "source": [
    "##### 6. Poskładajmy wszystko razem"
   ]
  },
  {
   "cell_type": "code",
   "execution_count": 95,
   "metadata": {},
   "outputs": [
    {
     "name": "stdout",
     "output_type": "stream",
     "text": [
      "Klucz:       0001001000110100010101100111100010101011110011101101111111111001\n",
      "Tekst jawny: 0000000100100011010001010110011110001001101010111100110111101111\n",
      "Szyfrogram:  1001100000110001110111101111101110000010111101001000101010010111\n",
      "Szyfrogram:  0x9831defb82f48a97\n",
      "Tekst jawny: 0000000100100011010001010110011110001001101010111100110111101111\n"
     ]
    }
   ],
   "source": [
    "import binascii\n",
    "M = '0123456789ABCDEF'\n",
    "key ='12345678ABCEDFF9'\n",
    "# C = '9831DEFB82F48A97' #dla potrzeb weryfikacji poprawności \n",
    "\n",
    "def DES_encrypt(message,key):\n",
    "    cipher = \"\"\n",
    "    plaintext_bits = hexTobinary(message)\n",
    "    key_bits = hexTobinary(key)\n",
    "    # zaimplementuj szyfrowanie DES zgodnie z diagramem w punkcie 1 powyżej. \n",
    "    plaintext_bits = apply_initial_p(INITIAL_PERMUTATION_TABLE, plaintext_bits)\n",
    "    keys_64 = generate_keys(key_bits)\n",
    "    L, R = split64bits_in_half(plaintext_bits)\n",
    "    \n",
    "    for round_key in keys_64:\n",
    "        L, R = R, XOR(L, functionF(R, round_key))\n",
    "    \n",
    "    cipher = apply_initial_p(INVERSE_PERMUTATION_TABLE, R + L)\n",
    "    return cipher\n",
    "    \n",
    "def DES_decrypt(message,key):\n",
    "    cipher = \"\"\n",
    "    plaintext_bits = hexTobinary(message)\n",
    "    key_bits = hexTobinary(key)\n",
    "    # zaimplementuj deszyfrowanie DES - klucze w odwrotnej kolejnosci  \n",
    "    plaintext_bits = apply_initial_p(INITIAL_PERMUTATION_TABLE, plaintext_bits)\n",
    "    keys_64_reversed = generate_keys(key_bits)\n",
    "    keys_64_reversed.reverse()\n",
    "    L, R = split64bits_in_half(plaintext_bits)\n",
    "    \n",
    "    for round_key in keys_64_reversed:\n",
    "        L, R = R, XOR(L, functionF(R, round_key))\n",
    "    \n",
    "    cipher = apply_initial_p(INVERSE_PERMUTATION_TABLE, R + L)\n",
    "    return cipher    \n",
    "    \n",
    "print(\"Klucz:      \", hexTobinary(key))\n",
    "print(\"Tekst jawny:\", hexTobinary(M))\n",
    "print(\"Szyfrogram: \", DES_encrypt(M, key))\n",
    "print(\"Szyfrogram: \", hex(int(DES_encrypt(M, key), 2)))\n",
    "print(\"Tekst jawny:\", DES_decrypt('9831defb82f48a97', key))"
   ]
  },
  {
   "cell_type": "code",
   "execution_count": null,
   "metadata": {},
   "outputs": [],
   "source": []
  }
 ],
 "metadata": {
  "kernelspec": {
   "display_name": "Python 3",
   "language": "python",
   "name": "python3"
  },
  "language_info": {
   "codemirror_mode": {
    "name": "ipython",
    "version": 3
   },
   "file_extension": ".py",
   "mimetype": "text/x-python",
   "name": "python",
   "nbconvert_exporter": "python",
   "pygments_lexer": "ipython3",
   "version": "3.8.3"
  }
 },
 "nbformat": 4,
 "nbformat_minor": 2
}
